{
 "cells": [
  {
   "cell_type": "code",
   "execution_count": null,
   "id": "3ff183ef",
   "metadata": {},
   "outputs": [],
   "source": [
    "import pandas as pd\n",
    "import numpy as np\n",
    "import matplotlib as mpl\n",
    "import matplotlib.pyplot as plt\n",
    "from sklearn import linear_model"
   ]
  },
  {
   "cell_type": "code",
   "execution_count": null,
   "id": "a8c0d88e",
   "metadata": {},
   "outputs": [],
   "source": [
    "#X_train must be 2D for linear regression\n",
    "X_train = np.array([1,4,7,20,31,32,44,54,68,73]).reshape(-1,1)\n",
    "X_train"
   ]
  },
  {
   "cell_type": "code",
   "execution_count": null,
   "id": "f3fdb127",
   "metadata": {},
   "outputs": [],
   "source": [
    "Y_train = np.array([3,4,9,14,22,34,46,57,67,79])\n",
    "Y_train"
   ]
  },
  {
   "cell_type": "code",
   "execution_count": null,
   "id": "c1e91e83",
   "metadata": {},
   "outputs": [],
   "source": [
    "fig, ax = plt.subplots()\n",
    "ax.set_xlabel('Input - X')\n",
    "ax.set_ylabel('Output - Y')\n",
    "ax.scatter(X_train,Y_train,color='black')"
   ]
  },
  {
   "cell_type": "code",
   "execution_count": null,
   "id": "76a82ebd",
   "metadata": {},
   "outputs": [],
   "source": [
    "#Creating a Linear Model\n",
    "reg = linear_model.LinearRegression()\n",
    "reg = reg.fit(X_train,Y_train)"
   ]
  },
  {
   "cell_type": "code",
   "execution_count": null,
   "id": "092400e7",
   "metadata": {},
   "outputs": [],
   "source": [
    "#Predicting new Values\n",
    "Y_pred = reg.predict(X_train)"
   ]
  },
  {
   "cell_type": "code",
   "execution_count": null,
   "id": "a869125b",
   "metadata": {},
   "outputs": [],
   "source": [
    "plt.scatter(X_train, Y_train, color=\"black\")\n",
    "plt.plot(X_train, Y_pred, color=\"blue\", linewidth=3)"
   ]
  },
  {
   "cell_type": "code",
   "execution_count": null,
   "id": "3791b352",
   "metadata": {},
   "outputs": [],
   "source": [
    "w = reg.coef_\n",
    "b = reg.intercept_\n",
    "\n",
    "print(f'w is: {w}, b is: {b}')"
   ]
  },
  {
   "cell_type": "code",
   "execution_count": null,
   "id": "9e8f442c",
   "metadata": {},
   "outputs": [],
   "source": []
  }
 ],
 "metadata": {
  "kernelspec": {
   "display_name": "Python 3 (ipykernel)",
   "language": "python",
   "name": "python3"
  },
  "language_info": {
   "codemirror_mode": {
    "name": "ipython",
    "version": 3
   },
   "file_extension": ".py",
   "mimetype": "text/x-python",
   "name": "python",
   "nbconvert_exporter": "python",
   "pygments_lexer": "ipython3",
   "version": "3.12.0"
  }
 },
 "nbformat": 4,
 "nbformat_minor": 5
}
